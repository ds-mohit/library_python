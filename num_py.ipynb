{
 "cells": [
  {
   "cell_type": "markdown",
   "id": "38a9cb6c",
   "metadata": {},
   "source": [
    "# ```Numpy ```"
   ]
  },
  {
   "cell_type": "markdown",
   "id": "755e07c5",
   "metadata": {},
   "source": [
    "### ```Numpy``` is a third party library for analyzing the data."
   ]
  },
  {
   "cell_type": "code",
   "execution_count": null,
   "id": "26498d1f",
   "metadata": {},
   "outputs": [
    {
     "data": {
      "text/plain": [
       "array([1, 2, 3])"
      ]
     },
     "execution_count": 2,
     "metadata": {},
     "output_type": "execute_result"
    }
   ],
   "source": [
    "import numpy as np # alias means nickname\n",
    "a=np.array([1,2,3])# 1-d array means elements in a single row\n",
    "a"
   ]
  },
  {
   "cell_type": "code",
   "execution_count": 12,
   "id": "f315b373",
   "metadata": {},
   "outputs": [
    {
     "data": {
      "text/plain": [
       "(numpy.ndarray, array([1, 2, 3, 4]))"
      ]
     },
     "execution_count": 12,
     "metadata": {},
     "output_type": "execute_result"
    }
   ],
   "source": [
    "lst=[1,2,3,4]\n",
    "arr=np.array(lst) # convert list to array\n",
    "type(arr),arr"
   ]
  },
  {
   "cell_type": "code",
   "execution_count": 16,
   "id": "6c7d1745",
   "metadata": {},
   "outputs": [
    {
     "data": {
      "text/plain": [
       "array([1, 2, 3, 4, 5, 6, 7, 8, 9])"
      ]
     },
     "execution_count": 16,
     "metadata": {},
     "output_type": "execute_result"
    }
   ],
   "source": [
    "a=np.arange(1,10)#using range function to print numbers from 1 to 9\n",
    "a"
   ]
  },
  {
   "cell_type": "code",
   "execution_count": 13,
   "id": "9f196f37",
   "metadata": {},
   "outputs": [
    {
     "data": {
      "text/plain": [
       "array([2, 4, 6])"
      ]
     },
     "execution_count": 13,
     "metadata": {},
     "output_type": "execute_result"
    }
   ],
   "source": [
    "a=np.array([1, 2, 3])\n",
    "b=np.array([1,2,3])\n",
    "a+b"
   ]
  },
  {
   "cell_type": "code",
   "execution_count": null,
   "id": "2a4093be",
   "metadata": {},
   "outputs": [
    {
     "name": "stdout",
     "output_type": "stream",
     "text": [
      "[1.]\n",
      "[[1. 1.]\n",
      " [1. 1.]]\n",
      "[0. 0.]\n"
     ]
    },
    {
     "data": {
      "text/plain": [
       "array([[0., 0., 0.],\n",
       "       [0., 0., 0.],\n",
       "       [0., 0., 0.]])"
      ]
     },
     "execution_count": 28,
     "metadata": {},
     "output_type": "execute_result"
    }
   ],
   "source": [
    "l=np.ones(1)#1-d array\n",
    "print(l)\n",
    "a=np.ones([2,2])#2-d array\n",
    "print(a)\n",
    "b=np.zeros(2)\n",
    "print(b)\n",
    "c=np.zeros([3,3])\n",
    "c"
   ]
  },
  {
   "cell_type": "code",
   "execution_count": 24,
   "id": "b6b0baba",
   "metadata": {},
   "outputs": [
    {
     "name": "stdout",
     "output_type": "stream",
     "text": [
      "[[1 2 3]\n",
      " [4 5 6]]\n"
     ]
    }
   ],
   "source": [
    "a=np.array([[1, 2, 3], [4, 5, 6]])\n",
    "print(a)\n"
   ]
  },
  {
   "cell_type": "code",
   "execution_count": 34,
   "id": "0fcd93ae",
   "metadata": {},
   "outputs": [
    {
     "data": {
      "text/plain": [
       "array([ 1.  ,  3.25,  5.5 ,  7.75, 10.  ])"
      ]
     },
     "execution_count": 34,
     "metadata": {},
     "output_type": "execute_result"
    }
   ],
   "source": [
    "h=np.linspace(1,10,5) #1 to 10 with 5 equally spaced numbers\n",
    "h"
   ]
  },
  {
   "cell_type": "code",
   "execution_count": null,
   "id": "5a858f39",
   "metadata": {},
   "outputs": [
    {
     "data": {
      "text/plain": [
       "array([[ 1,  2,  3,  4,  5,  6],\n",
       "       [ 7,  8,  9, 10, 11, 12],\n",
       "       [13, 14, 15, 16, 17, 18],\n",
       "       [19, 20, 21, 22, 23, 24],\n",
       "       [25, 26, 27, 28, 29, 30]])"
      ]
     },
     "execution_count": 36,
     "metadata": {},
     "output_type": "execute_result"
    }
   ],
   "source": [
    "num=np.arange(1,31).reshape(5,6) # 5 rows and 6 columns means 5x6 matrix here it converts a 1-d array to a 2-d array with specified shape\n",
    "num"
   ]
  },
  {
   "cell_type": "code",
   "execution_count": 42,
   "id": "fc09be82",
   "metadata": {},
   "outputs": [
    {
     "data": {
      "text/plain": [
       "array([0.25204004, 0.43203296, 0.81103085, 0.82820249, 0.29091125,\n",
       "       0.95254679, 0.91629361, 0.78190081, 0.51147084, 0.82507802])"
      ]
     },
     "execution_count": 42,
     "metadata": {},
     "output_type": "execute_result"
    }
   ],
   "source": [
    "# to get random integers in a specified range\n",
    "arr=np.random.randint(1,10,5) # 5 random integers between 1 and 10\n",
    "arr\n",
    "arr1=np.random.random(10)# 10 random floats between 0 and 1\n",
    "arr1"
   ]
  },
  {
   "cell_type": "code",
   "execution_count": 55,
   "id": "101b2c9a",
   "metadata": {},
   "outputs": [
    {
     "name": "stdout",
     "output_type": "stream",
     "text": [
      "(5, 12) int64\n"
     ]
    },
    {
     "data": {
      "text/plain": [
       "2"
      ]
     },
     "execution_count": 55,
     "metadata": {},
     "output_type": "execute_result"
    }
   ],
   "source": [
    "arr=np.arange(1,61).reshape(5,12)\n",
    "arr\n",
    "print((arr.shape),(arr.dtype))#data type\n",
    "arr.size # total number of elements in the array\n",
    "arr.ndim #dimension of array"
   ]
  },
  {
   "cell_type": "code",
   "execution_count": null,
   "id": "bccc872c",
   "metadata": {},
   "outputs": [
    {
     "data": {
      "text/plain": [
       "array([ 1,  2,  3,  4,  5,  6,  7,  8,  9, 10])"
      ]
     },
     "execution_count": 92,
     "metadata": {},
     "output_type": "execute_result"
    }
   ],
   "source": [
    "g=np.arange(1,11).reshape(5,2) # 5 rows and 2 columns\n",
    "h=g.ravel()\n",
    "h\n",
    "g=np.arange(1,11).reshape(5,2).ravel()#converting 2-d into 1-d\n",
    "g\n",
    "i=np.arange(1,11).reshape(5,2).flatten() # flattening the array(1-d array)\n",
    "i"
   ]
  },
  {
   "cell_type": "code",
   "execution_count": 63,
   "id": "d9024913",
   "metadata": {},
   "outputs": [
    {
     "data": {
      "text/plain": [
       "(2, 5)"
      ]
     },
     "execution_count": 63,
     "metadata": {},
     "output_type": "execute_result"
    }
   ],
   "source": [
    "#transpose of an array\n",
    "arr=np.arange(1,11).reshape(5,2)\n",
    "a=arr.T.shape\n",
    "a\n"
   ]
  },
  {
   "cell_type": "code",
   "execution_count": null,
   "id": "a8bbf09a",
   "metadata": {},
   "outputs": [
    {
     "name": "stdout",
     "output_type": "stream",
     "text": [
      "1\n",
      "[2 3 4 5]\n",
      "[2 4]\n",
      "[ 1  2  3 10  5  6  7  8  9 10]\n"
     ]
    }
   ],
   "source": [
    "# indexing and slicing\n",
    "arr=np.arange(1,11)\n",
    "print(arr[0])# indexing element\n",
    "print(arr[1:5])# slicing from index 1 to 4\n",
    "print(arr[1:5:2])# slicing from index 1 to 4 with step size of 2\n",
    "arr[3]=10 # changing the value at index 3\n",
    "print(arr) # modified array after changing the value at index 3"
   ]
  },
  {
   "cell_type": "code",
   "execution_count": 77,
   "id": "d90de7a1",
   "metadata": {},
   "outputs": [
    {
     "name": "stdout",
     "output_type": "stream",
     "text": [
      "[[1 2 3]\n",
      " [4 5 6]\n",
      " [7 8 9]]\n",
      "3\n",
      "[[4 5 6]\n",
      " [7 8 9]]\n",
      "[[1 2]\n",
      " [4 5]]\n",
      "(2, 2)\n"
     ]
    }
   ],
   "source": [
    "arr=np.array([[1,2,3],[4,5,6],[7,8,9]])\n",
    "print(arr)\n",
    "print(arr[0,2]) # accessing element at row 0, column 2\n",
    "print(arr[1:3, 0:3]) # slicing rows 1 to 2 and columns 0 to 2\n",
    "print(arr[0:2, 0:2]) # slicing rows 0 to 1 and columns 0 to 1\n",
    "print(arr[0:2, 0:2].shape) # shape of the sliced array"
   ]
  },
  {
   "cell_type": "code",
   "execution_count": 84,
   "id": "571a8eab",
   "metadata": {},
   "outputs": [
    {
     "name": "stdout",
     "output_type": "stream",
     "text": [
      "2\n",
      "int64\n"
     ]
    }
   ],
   "source": [
    "arr=np.array([[1,2,3],[4,5,6],[7,8,9]])\n",
    "print(arr[0,1]) # accessing element at row 0, column 1\n",
    "print(arr.dtype)"
   ]
  },
  {
   "cell_type": "code",
   "execution_count": 86,
   "id": "f88b756d",
   "metadata": {},
   "outputs": [
    {
     "name": "stdout",
     "output_type": "stream",
     "text": [
      "[[7 8 9]\n",
      " [4 5 6]\n",
      " [1 2 3]]\n",
      "[[3 2 1]\n",
      " [6 5 4]\n",
      " [9 8 7]]\n",
      "[[7 8 9]\n",
      " [4 5 6]\n",
      " [1 2 3]]\n"
     ]
    }
   ],
   "source": [
    "arr=np.array([[1,2,3],[4,5,6],[7,8,9]])\n",
    "print(arr[::-1]) # reversing the array\n",
    "print(arr[:, ::-1]) # reversing the columns of the array\n",
    "print(arr[::-1,:]) # reversing the rows of the array"
   ]
  },
  {
   "cell_type": "code",
   "execution_count": 87,
   "id": "70ede64f",
   "metadata": {},
   "outputs": [
    {
     "name": "stdout",
     "output_type": "stream",
     "text": [
      "[[[ 1  2  3]\n",
      "  [ 4  5  6]]\n",
      "\n",
      " [[ 7  8  9]\n",
      "  [10 11 12]]]\n"
     ]
    }
   ],
   "source": [
    "# 3-d array\n",
    "arr=np.array([[[1,2,3],[4,5,6]],[[7,8,9],[10,11,12]]])\n",
    "print(arr)"
   ]
  },
  {
   "cell_type": "code",
   "execution_count": null,
   "id": "f7600a9e",
   "metadata": {},
   "outputs": [
    {
     "name": "stdout",
     "output_type": "stream",
     "text": [
      "(2, 5, 4)\n",
      "[[[ 0  1  2  3]\n",
      "  [ 4  5  6  7]\n",
      "  [ 8  9 10 11]\n",
      "  [12 13 14 15]\n",
      "  [16 17 18 19]]\n",
      "\n",
      " [[20 21 22 23]\n",
      "  [24 25 26 27]\n",
      "  [28 29 30 31]\n",
      "  [32 33 34 35]\n",
      "  [36 37 38 39]]]\n"
     ]
    }
   ],
   "source": [
    "# creating a 3-d array with specific shape\n",
    "arr=np.arange(40).reshape(2,5,4)# 3-d array with 2 layers, 5 rows, and 4 columns\n",
    "print(arr.shape) # shape of the 3-d array\n",
    "print(arr)"
   ]
  },
  {
   "cell_type": "code",
   "execution_count": 95,
   "id": "3c03daa6",
   "metadata": {},
   "outputs": [
    {
     "name": "stdout",
     "output_type": "stream",
     "text": [
      "[[[4 8 2 5]\n",
      "  [1 6 3 5]\n",
      "  [2 1 5 3]]\n",
      "\n",
      " [[6 4 8 8]\n",
      "  [8 5 3 8]\n",
      "  [2 3 2 9]]]\n",
      "[[[0.6560863  0.87270355 0.14532274 0.64601909]\n",
      "  [0.47766393 0.34051378 0.71446095 0.65784399]\n",
      "  [0.69809073 0.95363514 0.61634331 0.96889818]]\n",
      "\n",
      " [[0.94002953 0.31161517 0.03851326 0.53161947]\n",
      "  [0.8138716  0.48032216 0.18272815 0.53853124]\n",
      "  [0.44999382 0.87098645 0.77397422 0.76205577]]]\n"
     ]
    }
   ],
   "source": [
    "# creating a 3-d array with random integers\n",
    "arr=np.random.randint(1,10, size=(2,3,4)) # 2 layers, 3 rows, and 4 columns with random integers between 1 and 10\n",
    "print(arr)\n",
    "# creating a 3-d array with random floats\n",
    "arr=np.random.random((2,3,4)) # 2 layers, 3 rows, and 4 columns with random floats between 0 and 1\n",
    "print(arr)"
   ]
  },
  {
   "cell_type": "code",
   "execution_count": 100,
   "id": "067235ed",
   "metadata": {},
   "outputs": [
    {
     "name": "stdout",
     "output_type": "stream",
     "text": [
      "[[[ 1  2  3  4]\n",
      "  [ 5  6  7  8]\n",
      "  [ 9 10 11 12]]\n",
      "\n",
      " [[13 14 15 16]\n",
      "  [17 18 19 20]\n",
      "  [21 22 23 24]]]\n",
      "7\n",
      "[[ 6  7  8]\n",
      " [10 11 12]]\n"
     ]
    }
   ],
   "source": [
    "# slicing in the 3-d array\n",
    "arr=np.arange(1,25).reshape(2,3,4) # creating a 3-d array with shape (2, 3, 4)\n",
    "print(arr)\n",
    "print(arr[0, 1, 2]) # accessing element at layer 0, row 1, column 2\n",
    "print(arr[0, 1:4, 1:5]) # accessing all elements in layer 0\n"
   ]
  },
  {
   "cell_type": "code",
   "execution_count": 109,
   "id": "ab067a7c",
   "metadata": {},
   "outputs": [
    {
     "name": "stdout",
     "output_type": "stream",
     "text": [
      "[3 4 5]\n",
      "[3 6 9]\n",
      "[5 7 9]\n",
      "[-3 -3 -3]\n",
      "[ 4 10 18]\n",
      "[0.25 0.4  0.5 ]\n",
      "[1 4 9]\n",
      "2.0\n",
      "2.0\n",
      "0.816496580927726\n",
      "0.6666666666666666\n"
     ]
    },
    {
     "data": {
      "text/plain": [
       "array([0, 1, 4, 2, 3, 5])"
      ]
     },
     "execution_count": 109,
     "metadata": {},
     "output_type": "execute_result"
    }
   ],
   "source": [
    "# common operations on arrays\n",
    "arr1 = np.array([1, 2, 3])\n",
    "arr2 = np.array([4, 5, 6])  \n",
    "print(arr1+2)  # adding 2 to each element\n",
    "print(arr1 * 3)  # multiplying each element by 3\n",
    "print(arr1 + arr2)  # element-wise addition\n",
    "print(arr1 - arr2)  # element-wise subtraction\n",
    "print(arr1 * arr2)  # element-wise multiplication\n",
    "print(arr1 / arr2)  # element-wise division\n",
    "print(arr1 ** 2)    # element-wise exponentiation\n",
    "print(np.mean(arr1))  # mean of the array\n",
    "print(np.median(arr1))  # median of the array   \n",
    "print(np.std(arr1))  # standard deviation of the array\n",
    "print(np.var(arr1))  # variance of the array\n",
    "arr3=np.array([2,3,5,6,4,8])\n",
    "arr3.argsort()# returns the indices that would sort the array\n",
    "\n",
    "\n"
   ]
  },
  {
   "cell_type": "code",
   "execution_count": null,
   "id": "8be65c6c",
   "metadata": {},
   "outputs": [],
   "source": []
  }
 ],
 "metadata": {
  "kernelspec": {
   "display_name": "Python 3",
   "language": "python",
   "name": "python3"
  },
  "language_info": {
   "codemirror_mode": {
    "name": "ipython",
    "version": 3
   },
   "file_extension": ".py",
   "mimetype": "text/x-python",
   "name": "python",
   "nbconvert_exporter": "python",
   "pygments_lexer": "ipython3",
   "version": "3.11.9"
  }
 },
 "nbformat": 4,
 "nbformat_minor": 5
}
